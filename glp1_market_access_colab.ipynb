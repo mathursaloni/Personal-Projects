{
 "cells": [
  {
   "cell_type": "markdown",
   "id": "9c9f3db2",
   "metadata": {},
   "source": [
    "# GLP-1 RA Market Access Analysis (France, Germany, UK)\n",
    "This Colab notebook loads the Excel dataset, performs analysis, and exports Tableau-ready CSVs and charts."
   ]
  },
  {
   "cell_type": "code",
   "execution_count": null,
   "id": "42ad6619",
   "metadata": {},
   "outputs": [],
   "source": [
    "\n",
    "# Install required packages (only needed in Colab)\n",
    "!pip install pandas matplotlib openpyxl xlsxwriter\n"
   ]
  },
  {
   "cell_type": "code",
   "execution_count": null,
   "id": "e32b46a3",
   "metadata": {},
   "outputs": [],
   "source": [
    "\n",
    "import pandas as pd\n",
    "import matplotlib.pyplot as plt\n",
    "\n",
    "# Upload the Excel file manually in Colab (use left panel > Files > Upload)\n",
    "excel_path = \"glp1_eu_market_access.xlsx\"\n",
    "\n",
    "# Load sheets\n",
    "countries = pd.read_excel(excel_path, sheet_name=\"countries\")\n",
    "drugs = pd.read_excel(excel_path, sheet_name=\"drugs\")\n",
    "prices = pd.read_excel(excel_path, sheet_name=\"prices\")\n",
    "reimb = pd.read_excel(excel_path, sheet_name=\"reimbursement\")\n",
    "afford = pd.read_excel(excel_path, sheet_name=\"affordability\")\n",
    "\n",
    "print(countries.head())\n"
   ]
  },
  {
   "cell_type": "code",
   "execution_count": null,
   "id": "36a8896f",
   "metadata": {},
   "outputs": [],
   "source": [
    "\n",
    "# Join latest-year prices with reimbursement + GDP\n",
    "latest_year = prices['year'].max()\n",
    "summary = prices.query(\"year == @latest_year\").merge(\n",
    "    reimb[['country','brand','status','access_score']], on=['country','brand'], how='left'\n",
    ").merge(countries[['country','monthly_gdp_pc']], on='country', how='left')\n",
    "\n",
    "summary['price_pct_of_monthly_gdp_pc'] = (summary['monthly_price_eur']/summary['monthly_gdp_pc']*100).round(2)\n",
    "summary.head()\n"
   ]
  },
  {
   "cell_type": "code",
   "execution_count": null,
   "id": "3071bc4c",
   "metadata": {},
   "outputs": [],
   "source": [
    "\n",
    "# Save summary CSV for Tableau\n",
    "summary.to_csv(\"tableau_master_latest.csv\", index=False)\n",
    "print(\"Exported tableau_master_latest.csv\")\n"
   ]
  },
  {
   "cell_type": "code",
   "execution_count": null,
   "id": "0a3046b0",
   "metadata": {},
   "outputs": [],
   "source": [
    "\n",
    "# Example charts\n",
    "\n",
    "weg = summary[summary['brand']==\"Wegovy\"]\n",
    "plt.bar(weg['country'], weg['monthly_price_eur'])\n",
    "plt.title(\"Wegovy Monthly Price (latest year)\")\n",
    "plt.ylabel(\"EUR\")\n",
    "plt.show()\n",
    "\n",
    "oz = summary[summary['brand']==\"Ozempic\"]\n",
    "plt.scatter(oz['monthly_gdp_pc'], oz['price_pct_of_monthly_gdp_pc'])\n",
    "for _, row in oz.iterrows():\n",
    "    plt.annotate(row['country'], (row['monthly_gdp_pc'], row['price_pct_of_monthly_gdp_pc']))\n",
    "plt.title(\"Ozempic Affordability vs GDP per Capita (latest year)\")\n",
    "plt.xlabel(\"Monthly GDP pc (EUR)\")\n",
    "plt.ylabel(\"Price % GDP pc\")\n",
    "plt.show()\n"
   ]
  }
 ],
 "metadata": {},
 "nbformat": 4,
 "nbformat_minor": 5
}
